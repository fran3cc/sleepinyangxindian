{
 "cells": [
  {
   "cell_type": "code",
   "execution_count": 53,
   "metadata": {},
   "outputs": [
    {
     "name": "stdout",
     "output_type": "stream",
     "text": [
      "done\n"
     ]
    }
   ],
   "source": [
    "import os\n",
    "import re\n",
    "from docx import Document\n",
    "from pptx import Presentation\n",
    "from pptx.util import Inches, Pt\n",
    "from pptx.dml.color import RGBColor\n",
    "from pptx.enum.shapes import MSO_SHAPE\n",
    "\n",
    "def read_docx(file_path):\n",
    "    doc = Document(file_path)\n",
    "    text = \"\"\n",
    "    for paragraph in doc.paragraphs:\n",
    "        text += paragraph.text + \" \"\n",
    "    return text\n",
    "\n",
    "def create_ppt(input_doc, output_ppt):\n",
    "\n",
    "    text = read_docx(input_doc)\n",
    "\n",
    "    # split re\n",
    "    sentences = re.split(r'(?<!\\w\\.\\w.)(?<![A-Z][a-z]\\.)(?<=\\.|\\?)\\s', text)\n",
    "\n",
    "    # creat ppt\n",
    "    ppt = Presentation()\n",
    "\n",
    "    # layout\n",
    "    slide_layout = ppt.slide_layouts[5]\n",
    "\n",
    "    # split\n",
    "    for sentence in sentences:\n",
    "        words = sentence.split()\n",
    "        if len(words) <= 20:\n",
    "            slide = ppt.slides.add_slide(slide_layout)\n",
    "            slide.background.fill.solid()\n",
    "            slide.background.fill.fore_color.rgb = RGBColor(0, 0, 0)\n",
    "\n",
    "            shape = slide.shapes.add_shape(MSO_SHAPE.RECTANGLE, Inches(0.5), Inches(1), Inches(9), Inches(4.13))\n",
    "            shape.fill.background()\n",
    "            shape.line.fill.background()\n",
    "\n",
    "            text_frame = shape.text_frame\n",
    "            text_frame.text = ' '.join(words)\n",
    "            text_frame.margin_top = Inches(0)\n",
    "            text_frame.margin_bottom = Inches(0)\n",
    "            text_frame.margin_left = Inches(0)\n",
    "            text_frame.margin_right = Inches(0)\n",
    "\n",
    "            for paragraph in text_frame.paragraphs:\n",
    "                paragraph.space_before = Pt(0)\n",
    "                paragraph.space_after = Pt(0)\n",
    "                paragraph.line_spacing = Pt(60.0)\n",
    "                for run in paragraph.runs:\n",
    "                    run.font.size = Pt(75)\n",
    "                    run.font.color.rgb = RGBColor(255, 255, 255)\n",
    "\n",
    "    # save\n",
    "    ppt.save(output_ppt)\n",
    "    print('done')\n",
    "\n",
    "if __name__ == '__main__':\n",
    "    input_doc = 'Hello_everyone.docx'  # input doc\n",
    "    output_ppt = 'output.pptx'  # 输出PPT文件\n",
    "    create_ppt(input_doc, output_ppt)\n"
   ]
  },
  {
   "cell_type": "code",
   "execution_count": null,
   "metadata": {},
   "outputs": [],
   "source": []
  }
 ],
 "metadata": {
  "kernelspec": {
   "display_name": "Python 3 (ipykernel)",
   "language": "python",
   "name": "python3"
  },
  "language_info": {
   "codemirror_mode": {
    "name": "ipython",
    "version": 3
   },
   "file_extension": ".py",
   "mimetype": "text/x-python",
   "name": "python",
   "nbconvert_exporter": "python",
   "pygments_lexer": "ipython3",
   "version": "3.9.13"
  }
 },
 "nbformat": 4,
 "nbformat_minor": 2
}
